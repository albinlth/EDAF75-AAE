{
 "cells": [
  {
   "cell_type": "markdown",
   "id": "0277f949",
   "metadata": {},
   "source": [
    "<!-- -*- mode: markdown; coding: utf-8; fill-column: 60; ispell-dictionary: \"english\" -*- -->\n",
    "\n",
    "<meta charset=\"utf-8\"/>\n",
    "<meta name=\"viewport\" content=\"width=device-width,initial-scale=1\"/>\n",
    "<link rel=\"stylesheet\" href=\"style.css\">\n",
    "\n",
    "\n",
    "# EDAF75 - lab 2: Testing the database\n",
    "\n",
    "As usual we have to tell Jupyter to allow SQL:"
   ]
  },
  {
   "cell_type": "code",
   "execution_count": 1,
   "id": "d68f2f65",
   "metadata": {},
   "outputs": [],
   "source": [
    "%load_ext sql"
   ]
  },
  {
   "cell_type": "markdown",
   "id": "a473a71b",
   "metadata": {},
   "source": [
    "And then we import our movie database"
   ]
  },
  {
   "cell_type": "code",
   "execution_count": 2,
   "id": "062773cc",
   "metadata": {},
   "outputs": [],
   "source": [
    "%sql sqlite:///movies.sqlite"
   ]
  },
  {
   "cell_type": "markdown",
   "id": "7fb8548e",
   "metadata": {},
   "source": [
    "We want to make sure that SQLite3 really checks our foreign\n",
    "key constraints -- to do that, we run:"
   ]
  },
  {
   "cell_type": "code",
   "execution_count": 83,
   "id": "7418d3c9",
   "metadata": {},
   "outputs": [
    {
     "name": "stdout",
     "output_type": "stream",
     "text": [
      " * sqlite:///movies.sqlite\n",
      "Done.\n"
     ]
    },
    {
     "data": {
      "text/plain": [
       "[]"
      ]
     },
     "execution_count": 83,
     "metadata": {},
     "output_type": "execute_result"
    }
   ],
   "source": [
    "%%sql\n",
    "PRAGMA foreign_keys=ON;"
   ]
  },
  {
   "cell_type": "markdown",
   "id": "f36c5cf4",
   "metadata": {},
   "source": [
    "## SQL statements to review at the lab session\n",
    "\n",
    "Write SQL code for the following tasks:\n",
    "\n",
    "+ Show the names of all movies."
   ]
  },
  {
   "cell_type": "code",
   "execution_count": 51,
   "id": "a0497dca",
   "metadata": {},
   "outputs": [
    {
     "name": "stdout",
     "output_type": "stream",
     "text": [
      " * sqlite:///movies.sqlite\n",
      "1 rows affected.\n"
     ]
    },
    {
     "data": {
      "text/plain": [
       "[]"
      ]
     },
     "execution_count": 51,
     "metadata": {},
     "output_type": "execute_result"
    }
   ],
   "source": [
    "%%sql\n",
    "INSERT INTO Ticket (performance_id,username)\n",
    "VALUES (6,(\n",
    "    SELECT username\n",
    "    FROM Customer\n",
    "    WHERE (username='user2') and (user_password='h4ck3r')\n",
    "    LIMIT 1\n",
    "))"
   ]
  },
  {
   "cell_type": "markdown",
   "id": "05b2d0c4",
   "metadata": {},
   "source": [
    "+ Show the performance dates for one of the movies."
   ]
  },
  {
   "cell_type": "code",
   "execution_count": 52,
   "id": "ae3a3b9e",
   "metadata": {},
   "outputs": [
    {
     "name": "stdout",
     "output_type": "stream",
     "text": [
      " * sqlite:///movies.sqlite\n",
      "Done.\n"
     ]
    },
    {
     "data": {
      "text/html": [
       "<table>\n",
       "    <tr>\n",
       "        <th>ticket_id</th>\n",
       "        <th>performance_id</th>\n",
       "        <th>username</th>\n",
       "    </tr>\n",
       "    <tr>\n",
       "        <td>3e5b19427b0c212bdf6fc60f1347ed23</td>\n",
       "        <td>1</td>\n",
       "        <td>user1</td>\n",
       "    </tr>\n",
       "    <tr>\n",
       "        <td>5dcbe186cc7de75b99c2dd0b66cd5359</td>\n",
       "        <td>1</td>\n",
       "        <td>user3</td>\n",
       "    </tr>\n",
       "    <tr>\n",
       "        <td>dd672e0bfc18dfa3094262ca6ba9a2cb</td>\n",
       "        <td>2</td>\n",
       "        <td>user2</td>\n",
       "    </tr>\n",
       "    <tr>\n",
       "        <td>3f1d2e7cacc65575d3b9e08fb6de225b</td>\n",
       "        <td>4</td>\n",
       "        <td>user3</td>\n",
       "    </tr>\n",
       "    <tr>\n",
       "        <td>49a1121d4b5b7e5b3a60a574e896e6a9</td>\n",
       "        <td>4</td>\n",
       "        <td>user2</td>\n",
       "    </tr>\n",
       "    <tr>\n",
       "        <td>b47905b2cea8f48d45b678444ec4c985</td>\n",
       "        <td>4</td>\n",
       "        <td>user1</td>\n",
       "    </tr>\n",
       "    <tr>\n",
       "        <td>d7f6f46cfe96f9a20e8a9a9a51c95f13</td>\n",
       "        <td>13</td>\n",
       "        <td>user1</td>\n",
       "    </tr>\n",
       "    <tr>\n",
       "        <td>af4d2deee90533c71f9cc605c096e213</td>\n",
       "        <td>13</td>\n",
       "        <td>user2</td>\n",
       "    </tr>\n",
       "    <tr>\n",
       "        <td>958d710487eb947d4d635e7719674166</td>\n",
       "        <td>1</td>\n",
       "        <td>admin</td>\n",
       "    </tr>\n",
       "    <tr>\n",
       "        <td>97fd87baa8c44eb81d8719f0beb031bc</td>\n",
       "        <td>1</td>\n",
       "        <td>user1</td>\n",
       "    </tr>\n",
       "    <tr>\n",
       "        <td>29d83d7cdba0d2fe88fa55ad3f4add86</td>\n",
       "        <td>2</td>\n",
       "        <td>user1</td>\n",
       "    </tr>\n",
       "    <tr>\n",
       "        <td>c6f927bd69b8f4f2df7547bec9320d3d</td>\n",
       "        <td>1</td>\n",
       "        <td>user2</td>\n",
       "    </tr>\n",
       "    <tr>\n",
       "        <td>ad397175c5bfa0763a79b13273d35406</td>\n",
       "        <td>1</td>\n",
       "        <td>user2</td>\n",
       "    </tr>\n",
       "    <tr>\n",
       "        <td>3359fcf5858b4c3def0ce113bbeabaac</td>\n",
       "        <td>4</td>\n",
       "        <td>user2</td>\n",
       "    </tr>\n",
       "    <tr>\n",
       "        <td>c77be0a6d8eda0c6ccd5e38aa2483370</td>\n",
       "        <td>6</td>\n",
       "        <td>user2</td>\n",
       "    </tr>\n",
       "</table>"
      ],
      "text/plain": [
       "[('3e5b19427b0c212bdf6fc60f1347ed23', '1', 'user1'),\n",
       " ('5dcbe186cc7de75b99c2dd0b66cd5359', '1', 'user3'),\n",
       " ('dd672e0bfc18dfa3094262ca6ba9a2cb', '2', 'user2'),\n",
       " ('3f1d2e7cacc65575d3b9e08fb6de225b', '4', 'user3'),\n",
       " ('49a1121d4b5b7e5b3a60a574e896e6a9', '4', 'user2'),\n",
       " ('b47905b2cea8f48d45b678444ec4c985', '4', 'user1'),\n",
       " ('d7f6f46cfe96f9a20e8a9a9a51c95f13', '13', 'user1'),\n",
       " ('af4d2deee90533c71f9cc605c096e213', '13', 'user2'),\n",
       " ('958d710487eb947d4d635e7719674166', '1', 'admin'),\n",
       " ('97fd87baa8c44eb81d8719f0beb031bc', '1', 'user1'),\n",
       " ('29d83d7cdba0d2fe88fa55ad3f4add86', '2', 'user1'),\n",
       " ('c6f927bd69b8f4f2df7547bec9320d3d', '1', 'user2'),\n",
       " ('ad397175c5bfa0763a79b13273d35406', '1', 'user2'),\n",
       " ('3359fcf5858b4c3def0ce113bbeabaac', '4', 'user2'),\n",
       " ('c77be0a6d8eda0c6ccd5e38aa2483370', '6', 'user2')]"
      ]
     },
     "execution_count": 52,
     "metadata": {},
     "output_type": "execute_result"
    }
   ],
   "source": [
    "%%sql\n",
    "Select *\n",
    "FROM ticket"
   ]
  },
  {
   "cell_type": "markdown",
   "id": "aacdcb5d",
   "metadata": {},
   "source": [
    "+ Show all data concerning performances at a given theatere\n",
    "  on a given date."
   ]
  },
  {
   "cell_type": "code",
   "execution_count": 5,
   "id": "b3d76fbf",
   "metadata": {},
   "outputs": [
    {
     "name": "stdout",
     "output_type": "stream",
     "text": [
      " * sqlite:///movies.sqlite\n",
      "Done.\n"
     ]
    },
    {
     "data": {
      "text/html": [
       "<table>\n",
       "    <tr>\n",
       "        <th>performance_id</th>\n",
       "        <th>performance_date</th>\n",
       "        <th>start_time</th>\n",
       "        <th>IMDB_KEY</th>\n",
       "        <th>theater_name</th>\n",
       "        <th>capacity</th>\n",
       "    </tr>\n",
       "    <tr>\n",
       "        <td>1</td>\n",
       "        <td>2022-02-01</td>\n",
       "        <td>19:00</td>\n",
       "        <td>abcd123</td>\n",
       "        <td>Sparta</td>\n",
       "        <td>90</td>\n",
       "    </tr>\n",
       "    <tr>\n",
       "        <td>2</td>\n",
       "        <td>2022-02-01</td>\n",
       "        <td>19:30</td>\n",
       "        <td>abcd123</td>\n",
       "        <td>Sparta</td>\n",
       "        <td>90</td>\n",
       "    </tr>\n",
       "    <tr>\n",
       "        <td>3</td>\n",
       "        <td>2022-02-01</td>\n",
       "        <td>20:00</td>\n",
       "        <td>abcd123</td>\n",
       "        <td>Sparta</td>\n",
       "        <td>90</td>\n",
       "    </tr>\n",
       "    <tr>\n",
       "        <td>4</td>\n",
       "        <td>2022-02-01</td>\n",
       "        <td>20:30</td>\n",
       "        <td>abcd123</td>\n",
       "        <td>Sparta</td>\n",
       "        <td>90</td>\n",
       "    </tr>\n",
       "</table>"
      ],
      "text/plain": [
       "[(1, '2022-02-01', '19:00', 'abcd123', 'Sparta', 90),\n",
       " (2, '2022-02-01', '19:30', 'abcd123', 'Sparta', 90),\n",
       " (3, '2022-02-01', '20:00', 'abcd123', 'Sparta', 90),\n",
       " (4, '2022-02-01', '20:30', 'abcd123', 'Sparta', 90)]"
      ]
     },
     "execution_count": 5,
     "metadata": {},
     "output_type": "execute_result"
    }
   ],
   "source": [
    "%%sql\n",
    "SELECT *\n",
    "FROM performance\n",
    "JOIN theater USING (theater_name)\n",
    "WHERE theater_name='Sparta'\n",
    "    and performance_date=date('2022-02-01')\n",
    "    \n"
   ]
  },
  {
   "cell_type": "markdown",
   "id": "397c005e",
   "metadata": {},
   "source": [
    "+ List all customers"
   ]
  },
  {
   "cell_type": "code",
   "execution_count": 7,
   "id": "f1abab71",
   "metadata": {},
   "outputs": [
    {
     "name": "stdout",
     "output_type": "stream",
     "text": [
      " * sqlite:///movies.sqlite\n",
      "Done.\n"
     ]
    },
    {
     "data": {
      "text/html": [
       "<table>\n",
       "    <tr>\n",
       "        <th>username</th>\n",
       "        <th>full_name</th>\n",
       "    </tr>\n",
       "    <tr>\n",
       "        <td>user1</td>\n",
       "        <td>user username</td>\n",
       "    </tr>\n",
       "    <tr>\n",
       "        <td>user2</td>\n",
       "        <td>user2 username2</td>\n",
       "    </tr>\n",
       "    <tr>\n",
       "        <td>user3</td>\n",
       "        <td>user3 username3 lastname3</td>\n",
       "    </tr>\n",
       "</table>"
      ],
      "text/plain": [
       "[('user1', 'user username'),\n",
       " ('user2', 'user2 username2'),\n",
       " ('user3', 'user3 username3 lastname3')]"
      ]
     },
     "execution_count": 7,
     "metadata": {},
     "output_type": "execute_result"
    }
   ],
   "source": [
    "%%sql\n",
    "SELECT username, full_name\n",
    "FROM Customer\n"
   ]
  },
  {
   "cell_type": "markdown",
   "id": "1587f3bc",
   "metadata": {},
   "source": [
    "+ List all tickets"
   ]
  },
  {
   "cell_type": "code",
   "execution_count": 9,
   "id": "f888e4fc",
   "metadata": {},
   "outputs": [
    {
     "name": "stdout",
     "output_type": "stream",
     "text": [
      " * sqlite:///movies.sqlite\n",
      "Done.\n"
     ]
    },
    {
     "data": {
      "text/html": [
       "<table>\n",
       "    <tr>\n",
       "        <th>ticket_id</th>\n",
       "    </tr>\n",
       "    <tr>\n",
       "        <td>0cbca1ddf027b402548152d3fcd412cf</td>\n",
       "    </tr>\n",
       "    <tr>\n",
       "        <td>16948e6d39a51de0d92ba007970906d9</td>\n",
       "    </tr>\n",
       "    <tr>\n",
       "        <td>48ec271991d747ab0d4de25223f80d33</td>\n",
       "    </tr>\n",
       "    <tr>\n",
       "        <td>50118168f738c254367c2f4a6f3d7d1a</td>\n",
       "    </tr>\n",
       "    <tr>\n",
       "        <td>f453b8cbf4b4c5de8f954919dad92828</td>\n",
       "    </tr>\n",
       "    <tr>\n",
       "        <td>f4d711faf0e6ad6cc335692e99d2f05f</td>\n",
       "    </tr>\n",
       "</table>"
      ],
      "text/plain": [
       "[('0cbca1ddf027b402548152d3fcd412cf',),\n",
       " ('16948e6d39a51de0d92ba007970906d9',),\n",
       " ('48ec271991d747ab0d4de25223f80d33',),\n",
       " ('50118168f738c254367c2f4a6f3d7d1a',),\n",
       " ('f453b8cbf4b4c5de8f954919dad92828',),\n",
       " ('f4d711faf0e6ad6cc335692e99d2f05f',)]"
      ]
     },
     "execution_count": 9,
     "metadata": {},
     "output_type": "execute_result"
    }
   ],
   "source": [
    "%%sql\n",
    "SELECT ticket_id\n",
    "FROM ticket\n"
   ]
  },
  {
   "cell_type": "markdown",
   "id": "ca83d079",
   "metadata": {},
   "source": [
    "## Things to try out yourselves (not reviewed at the lab session)\n",
    "\n",
    "During lab 3 you'll write a REST service for the database\n",
    "you just created, and for the server to work properly, the\n",
    "things below should work.\n",
    "\n",
    "If you have any questions about the material below, feel\n",
    "free to ask them at the QA sessions (see Moodle for how to\n",
    "sign up for them).\n",
    "\n",
    "\n",
    "+ Create a new ticket to some performance (i.e., insert a\n",
    "  new row in your table of tickets)."
   ]
  },
  {
   "cell_type": "code",
   "execution_count": 88,
   "id": "dd368375",
   "metadata": {},
   "outputs": [
    {
     "name": "stdout",
     "output_type": "stream",
     "text": [
      " * sqlite:///movies.sqlite\n",
      "(sqlite3.IntegrityError) Sold out\n",
      "[SQL: /* TESTER FÖR TRIGGER, KÖR ETT STYCKE I TAGET*/\n",
      "\n",
      "/*\n",
      "SELECT *\n",
      "FROM Ticket\n",
      "WHERE performance_id = 13\n",
      "*/\n",
      "\n",
      "/*\n",
      "INSERT \n",
      "INTO Ticket (performance_id, username)\n",
      "VALUES (13, 'user1'), (13, 'user2')\n",
      "*/\n",
      "\n",
      "/*\n",
      "SELECT * \n",
      "FROM Ticket\n",
      "WHERE performance_id = 13\n",
      "*/\n",
      "\n",
      "\n",
      "Insert\n",
      "INTO Ticket (performance_id, username)\n",
      "VALUES (13, 'user3')]\n",
      "(Background on this error at: https://sqlalche.me/e/14/gkpj)\n"
     ]
    }
   ],
   "source": [
    "%%sql\n",
    "/* TESTER FÖR TRIGGER, KÖR ETT STYCKE I TAGET*/\n",
    "\n",
    "/*\n",
    "SELECT *\n",
    "FROM Ticket\n",
    "WHERE performance_id = 13\n",
    "*/\n",
    "\n",
    "/*\n",
    "INSERT \n",
    "INTO Ticket (performance_id, username)\n",
    "VALUES (13, 'user1'), (13, 'user2')\n",
    "*/\n",
    "\n",
    "/*\n",
    "SELECT * \n",
    "FROM Ticket\n",
    "WHERE performance_id = 13\n",
    "*/\n",
    "\n",
    "/*\n",
    "Insert\n",
    "INTO Ticket (performance_id, username)\n",
    "VALUES (13, 'user3')\n",
    "*/\n"
   ]
  },
  {
   "cell_type": "markdown",
   "id": "2dfddda0",
   "metadata": {},
   "source": [
    "In newer versions of SQLite (since version 3.35, released\n",
    "  in March 2021), and in\n",
    "  [PostgreSQL](https://www.postgresql.org/docs/current/sql-insert.html),\n",
    "  we can get any value generated during an insert using the\n",
    "  `INSERT...-RETURNING` statement:"
   ]
  },
  {
   "cell_type": "markdown",
   "id": "9f0f5b7b",
   "metadata": {},
   "source": [
    "~~~{.sql}\n",
    "INSERT\n",
    "INTO       students\n",
    "VALUES     ('Amy', 3.9, 1200)\n",
    "RETURNING  s_id\n",
    "~~~\n"
   ]
  },
  {
   "cell_type": "markdown",
   "id": "2b3ce6e8",
   "metadata": {},
   "source": [
    "which would return the generated `s_id` for the new\n",
    "  student.\n",
    "\n",
    "  If your SQLite version is older than 3.35, and you can't\n",
    "  upgrade, you can instead use the following idea: each row\n",
    "  in a SQLite3 table has a `rowid` attribute, it is a unique\n",
    "  integer which essentially tells in which order the rows\n",
    "  were inserted, and it's not displayed in queries unless we\n",
    "  ask for it. SQLite3 also have a function,\n",
    "  `last_insert_rowid()`, which returns the `rowid` of the\n",
    "  last inserted row of a table, so we can see the `s_id` of\n",
    "  the most recently inserted student with the following\n",
    "  query:"
   ]
  },
  {
   "cell_type": "markdown",
   "id": "562a51bf",
   "metadata": {},
   "source": [
    "~~~{.sql}\n",
    "SELECT s_id\n",
    "FROM   students\n",
    "WHERE  rowid = last_insert_rowid();\n",
    "~~~\n"
   ]
  },
  {
   "cell_type": "markdown",
   "id": "c6c80ea5",
   "metadata": {},
   "source": [
    "Now, check what ticket number we got for the ticket we\n",
    "  created above (it should be the same as the ticket id,\n",
    "  which should be a `randomblob`):"
   ]
  },
  {
   "cell_type": "code",
   "execution_count": null,
   "id": "02c41d21",
   "metadata": {},
   "outputs": [],
   "source": [
    "%%sql\n"
   ]
  },
  {
   "cell_type": "markdown",
   "id": "3455eaf8",
   "metadata": {},
   "source": [
    "+ Try to insert two movie theaters with the same name (this\n",
    "  should fail)."
   ]
  },
  {
   "cell_type": "code",
   "execution_count": null,
   "id": "18def3a7",
   "metadata": {},
   "outputs": [],
   "source": [
    "%%sql\n"
   ]
  },
  {
   "cell_type": "markdown",
   "id": "114abab7",
   "metadata": {},
   "source": [
    "+ Try to insert a performance where the theater doesnâ€™t\n",
    "  exist in the database (this should fail)."
   ]
  },
  {
   "cell_type": "code",
   "execution_count": null,
   "id": "58d28e66",
   "metadata": {},
   "outputs": [],
   "source": [
    "%%sql\n"
   ]
  },
  {
   "cell_type": "markdown",
   "id": "ac2823c2",
   "metadata": {},
   "source": [
    "+ Create a ticket where either the user or the performance\n",
    "  doesnâ€™t exist (this should fail)."
   ]
  },
  {
   "cell_type": "code",
   "execution_count": null,
   "id": "74400b28",
   "metadata": {},
   "outputs": [],
   "source": [
    "%%sql\n"
   ]
  }
 ],
 "metadata": {
  "kernelspec": {
   "display_name": "Python 3 (ipykernel)",
   "language": "python",
   "name": "python3"
  },
  "language_info": {
   "codemirror_mode": {
    "name": "ipython",
    "version": 3
   },
   "file_extension": ".py",
   "mimetype": "text/x-python",
   "name": "python",
   "nbconvert_exporter": "python",
   "pygments_lexer": "ipython3",
   "version": "3.7.5"
  },
  "vscode": {
   "interpreter": {
    "hash": "63d5254d6f418dc16c09469e781f200c7c33d2f4b69fa01a55dd54161814eade"
   }
  }
 },
 "nbformat": 4,
 "nbformat_minor": 5
}
